{
 "cells": [
  {
   "cell_type": "code",
   "execution_count": 2,
   "id": "aa3919fa",
   "metadata": {},
   "outputs": [],
   "source": [
    "path = \"C:\\\\Users\\\\mjjyo\\\\OneDrive\\\\Desktop\\\\REWE.txt\""
   ]
  },
  {
   "cell_type": "code",
   "execution_count": 3,
   "id": "f1c031b6",
   "metadata": {},
   "outputs": [],
   "source": [
    "addresses = []\n",
    "# Getting my file w/ addresses\n",
    "with open(path, 'r') as file:\n",
    "    for line in file:\n",
    "        if line.startswith(\"REWE Markt GmbH\"):\n",
    "            addresses.append(line.strip())\n"
   ]
  },
  {
   "cell_type": "code",
   "execution_count": 4,
   "id": "a25904d4",
   "metadata": {},
   "outputs": [],
   "source": [
    "import re\n",
    "\n",
    "# Preprocessing addresses\n",
    "def is_valid_string(s):\n",
    "    pattern = r'^[a-zA-Z0-9/.,!?\"\\'\\s-]+$'\n",
    "    return re.match(pattern, s) is not None"
   ]
  },
  {
   "cell_type": "code",
   "execution_count": 5,
   "id": "4e5ee449",
   "metadata": {},
   "outputs": [],
   "source": [
    "addresses = [address for address in addresses if is_valid_string(address) == True]"
   ]
  },
  {
   "cell_type": "code",
   "execution_count": null,
   "id": "e34de25e",
   "metadata": {},
   "outputs": [],
   "source": []
  },
  {
   "cell_type": "code",
   "execution_count": 6,
   "id": "7aed729f",
   "metadata": {},
   "outputs": [],
   "source": [
    "store = addresses[0]\n",
    "store2 = addresses[1]"
   ]
  },
  {
   "cell_type": "code",
   "execution_count": 7,
   "id": "fa36b2ba",
   "metadata": {},
   "outputs": [
    {
     "data": {
      "text/plain": [
       "'REWE Markt GmbH, Lausanner Str. 82 / Goerzallee, 12205 Berlin / Lichterfelde'"
      ]
     },
     "execution_count": 7,
     "metadata": {},
     "output_type": "execute_result"
    }
   ],
   "source": [
    "store2"
   ]
  },
  {
   "cell_type": "code",
   "execution_count": 8,
   "id": "e4955923",
   "metadata": {},
   "outputs": [],
   "source": [
    "url = \"https://www.rewe.de/angebote/berlin-friedenau/1350073/rewe-markt-rheinstr-30/\"\n"
   ]
  },
  {
   "cell_type": "markdown",
   "id": "8498d215",
   "metadata": {},
   "source": [
    "https://www.rewe.de/angebote/berlin-friedenau/1350073/rewe-markt-rheinstr-30/\n",
    "'REWE Markt GmbH, Lausanner Str. 82 / Goerzallee, 12205 Berlin / Lichterfelde'\n"
   ]
  },
  {
   "cell_type": "code",
   "execution_count": 9,
   "id": "5f7af33e",
   "metadata": {},
   "outputs": [],
   "source": [
    "from selenium import webdriver\n",
    "from selenium.webdriver.common.keys import Keys\n",
    "from selenium.webdriver.common.by import By\n",
    "from selenium.webdriver.common.action_chains import ActionChains\n",
    "# from selenium.webdriver.support import expected_conditions as EC\n",
    "# from selenium.webdriver.support.ui import WebDriverWait\n",
    "from selenium.common.exceptions import NoSuchElementException\n",
    "\n",
    "import undetected_chromedriver as uc\n",
    "import time"
   ]
  },
  {
   "cell_type": "code",
   "execution_count": 41,
   "id": "d3f1d8b8",
   "metadata": {},
   "outputs": [
    {
     "name": "stderr",
     "output_type": "stream",
     "text": [
      "C:\\Users\\mjjyo\\AppData\\Local\\Temp\\ipykernel_7524\\3501764175.py:4: DeprecationWarning: headless property is deprecated, instead use add_argument('--headless') or add_argument('--headless=new')\n",
      "  options.headless = False\n"
     ]
    }
   ],
   "source": [
    "# Create a browser instance\n",
    "\n",
    "options = uc.ChromeOptions()\n",
    "options.headless = False\n",
    "\n",
    "driver = uc.Chrome(options = options)\n",
    "\n",
    "driver.get(url)"
   ]
  },
  {
   "cell_type": "code",
   "execution_count": 28,
   "id": "028eead9",
   "metadata": {},
   "outputs": [],
   "source": [
    "store_phones = []"
   ]
  },
  {
   "cell_type": "code",
   "execution_count": 43,
   "id": "d3e3b565",
   "metadata": {},
   "outputs": [],
   "source": [
    "# Click accept cookies\n",
    "accept_cookies = driver.find_element(By.XPATH, \"//button[@id='uc-btn-accept-banner']\")\n",
    "ActionChains(driver).move_to_element(accept_cookies).click().perform()\n",
    "\n",
    "time.sleep(2.563)\n",
    "\n",
    "# Change market button\n",
    "market_prompt = driver.find_element(By.ID,'gbmc-js-cms-header-link')\n",
    "ActionChains(driver).move_to_element(market_prompt).click().perform()\n",
    "\n",
    "time.sleep(3.456)\n",
    "\n",
    "# Select input and type in it\n",
    "address_input = driver.find_element(By.XPATH, \"//input[@data-testid='gbmc-text-input']\")\n",
    "ActionChains(driver).move_to_element(address_input).click().send_keys(store2).perform()\n",
    "\n",
    "time.sleep(2.654)\n",
    "\n",
    "# Click submit go to market button\n",
    "\n",
    "go_to_market = driver.find_element(By.XPATH, \"//button[@data-testid='gbmc-market-picker-4040098']\")\n",
    "ActionChains(driver).move_to_element(go_to_market).click().perform()\n",
    "\n",
    "time.sleep(4.1265)\n",
    "\n",
    "telephone_number = driver.find_element(By.XPATH, \"//div[contains(@class, 'market-contact')]\").text\n",
    "store_phones.append(telephone_number)"
   ]
  },
  {
   "cell_type": "code",
   "execution_count": 51,
   "id": "3d73a4a2",
   "metadata": {},
   "outputs": [
    {
     "data": {
      "text/plain": [
       "'030-83202917'"
      ]
     },
     "execution_count": 51,
     "metadata": {},
     "output_type": "execute_result"
    }
   ],
   "source": [
    "store_phones[0].split('\\n')[0].split(':')[1].strip()"
   ]
  },
  {
   "cell_type": "code",
   "execution_count": null,
   "id": "6c45722c",
   "metadata": {},
   "outputs": [],
   "source": [
    "driver.close()"
   ]
  },
  {
   "cell_type": "code",
   "execution_count": null,
   "id": "99b2e786",
   "metadata": {},
   "outputs": [],
   "source": []
  },
  {
   "cell_type": "code",
   "execution_count": null,
   "id": "848d55e5",
   "metadata": {},
   "outputs": [],
   "source": []
  }
 ],
 "metadata": {
  "kernelspec": {
   "display_name": "Python 3 (ipykernel)",
   "language": "python",
   "name": "python3"
  },
  "language_info": {
   "codemirror_mode": {
    "name": "ipython",
    "version": 3
   },
   "file_extension": ".py",
   "mimetype": "text/x-python",
   "name": "python",
   "nbconvert_exporter": "python",
   "pygments_lexer": "ipython3",
   "version": "3.9.13"
  }
 },
 "nbformat": 4,
 "nbformat_minor": 5
}
