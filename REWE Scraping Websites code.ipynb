{
 "cells": [
  {
   "cell_type": "code",
   "execution_count": 1,
   "id": "394773ad",
   "metadata": {},
   "outputs": [],
   "source": [
    "import os\n",
    "\n",
    "path = (\"path\")"
   ]
  },
  {
   "cell_type": "code",
   "execution_count": 2,
   "id": "dc1b1fa4",
   "metadata": {},
   "outputs": [],
   "source": [
    "addresses = []\n",
    "# Getting my file w/ addresses\n",
    "with open(path, 'r') as file:\n",
    "    for line in file:\n",
    "        if line.startswith(\"REWE Markt GmbH\"):\n",
    "            addresses.append(line.strip())\n"
   ]
  },
  {
   "cell_type": "code",
   "execution_count": 3,
   "id": "5c59e58d",
   "metadata": {},
   "outputs": [],
   "source": [
    "import re\n",
    "\n",
    "# Preprocessing addresses\n",
    "def is_valid_string(s):\n",
    "    pattern = r'^[a-zA-Z0-9/.,!?\"\\'\\s-]+$'\n",
    "    return re.match(pattern, s) is not None"
   ]
  },
  {
   "cell_type": "code",
   "execution_count": 4,
   "id": "bff7f07b",
   "metadata": {},
   "outputs": [],
   "source": [
    "addresses = [address for address in addresses if is_valid_string(address) == True]"
   ]
  },
  {
   "cell_type": "code",
   "execution_count": 5,
   "id": "5196e8cc",
   "metadata": {},
   "outputs": [],
   "source": [
    "import pandas as pd"
   ]
  },
  {
   "cell_type": "code",
   "execution_count": 6,
   "id": "2b677d3e",
   "metadata": {},
   "outputs": [],
   "source": [
    "data = {'TEAM_MEMBER': [], 'STORE_ID': [], 'STORE_NAME': [], 'STORE_ADDRESS': [], 'STORE_NAME_ADDRESS': [], 'STORE_RATING': [], 'STORE_NUMBER_RATINGS': [], 'STORE_TYPE': [], 'STORE_PHONE': [], 'STORE_SERVICES': []}\n",
    "store_df = pd.DataFrame(data)"
   ]
  },
  {
   "cell_type": "code",
   "execution_count": 7,
   "id": "45aa9f9c",
   "metadata": {},
   "outputs": [
    {
     "data": {
      "text/html": [
       "<div>\n",
       "<style scoped>\n",
       "    .dataframe tbody tr th:only-of-type {\n",
       "        vertical-align: middle;\n",
       "    }\n",
       "\n",
       "    .dataframe tbody tr th {\n",
       "        vertical-align: top;\n",
       "    }\n",
       "\n",
       "    .dataframe thead th {\n",
       "        text-align: right;\n",
       "    }\n",
       "</style>\n",
       "<table border=\"1\" class=\"dataframe\">\n",
       "  <thead>\n",
       "    <tr style=\"text-align: right;\">\n",
       "      <th></th>\n",
       "      <th>TEAM_MEMBER</th>\n",
       "      <th>STORE_ID</th>\n",
       "      <th>STORE_NAME</th>\n",
       "      <th>STORE_ADDRESS</th>\n",
       "      <th>STORE_NAME_ADDRESS</th>\n",
       "      <th>STORE_RATING</th>\n",
       "      <th>STORE_NUMBER_RATINGS</th>\n",
       "      <th>STORE_TYPE</th>\n",
       "      <th>STORE_PHONE</th>\n",
       "      <th>STORE_SERVICES</th>\n",
       "    </tr>\n",
       "  </thead>\n",
       "  <tbody>\n",
       "  </tbody>\n",
       "</table>\n",
       "</div>"
      ],
      "text/plain": [
       "Empty DataFrame\n",
       "Columns: [TEAM_MEMBER, STORE_ID, STORE_NAME, STORE_ADDRESS, STORE_NAME_ADDRESS, STORE_RATING, STORE_NUMBER_RATINGS, STORE_TYPE, STORE_PHONE, STORE_SERVICES]\n",
       "Index: []"
      ]
     },
     "execution_count": 7,
     "metadata": {},
     "output_type": "execute_result"
    }
   ],
   "source": [
    "store_df"
   ]
  },
  {
   "cell_type": "code",
   "execution_count": 8,
   "id": "5ac8511c",
   "metadata": {},
   "outputs": [],
   "source": [
    "from selenium import webdriver\n",
    "from selenium.webdriver.common.keys import Keys\n",
    "from selenium.webdriver.common.by import By\n",
    "from selenium.webdriver.common.action_chains import ActionChains\n",
    "import chromedriver_autoinstaller \n",
    "import undetected_chromedriver as uc \n",
    "from webdriver_manager.chrome import ChromeDriverManager\n",
    "import cfscrape\n",
    "import time\n",
    "\n"
   ]
  },
  {
   "cell_type": "code",
   "execution_count": 9,
   "id": "bd9391df",
   "metadata": {},
   "outputs": [
    {
     "name": "stderr",
     "output_type": "stream",
     "text": [
      "C:\\Users\\mjjyo\\AppData\\Local\\Temp\\ipykernel_6908\\1465272153.py:5: DeprecationWarning: headless property is deprecated, instead use add_argument('--headless') or add_argument('--headless=new')\n",
      "  options.headless = False\n"
     ]
    }
   ],
   "source": [
    "# Use cfscrape to bypass Cloudflare\n",
    "scraper = cfscrape.create_scraper()\n",
    "# Create a new undetected Chrome browser instance\n",
    "options = uc.ChromeOptions()\n",
    "options.headless = False\n",
    "driver = uc.Chrome(options=options)\n",
    "\n",
    "url = \"https://www.rewe.de/angebote/berlin-friedenau/1350073/rewe-markt-rheinstr-30/\"\n",
    "\n",
    "response = scraper.get(url)\n",
    "driver.get(url)"
   ]
  },
  {
   "cell_type": "code",
   "execution_count": 10,
   "id": "1417b453",
   "metadata": {},
   "outputs": [],
   "source": [
    "store_name_list = []\n",
    "store_address_list = []\n",
    "store_phone_list = []\n",
    "store_services_list = []\n",
    "store_name_address_list = []\n",
    "\n",
    "products_for_store_list = []"
   ]
  },
  {
   "cell_type": "code",
   "execution_count": 11,
   "id": "9795d3ff",
   "metadata": {},
   "outputs": [],
   "source": [
    "# Find and click the \"Accept Cookies\" button (if it exists)\n",
    "\n",
    "accept_button = driver.find_element(By.XPATH, \"//button[@id='uc-btn-accept-banner']\")\n",
    "ActionChains(driver).move_to_element(accept_button).click().perform()\n",
    "\n",
    "time.sleep(5.23)\n",
    "\n",
    "for i in addresses:\n",
    "\n",
    "    driver.get(url)\n",
    "    \n",
    "    \n",
    "    # Find and click the \"change market\" button\n",
    "    change_market_button = driver.find_element(By.XPATH, \"//button[contains(text(),'Markt ändern')]\")\n",
    "    ActionChains(driver).move_to_element(change_market_button).click().perform()\n",
    "\n",
    "    # Wait for the popup to load\n",
    "    time.sleep(2.34)\n",
    "\n",
    "    # Find the address input field and enter the desired address\n",
    "    address_input = driver.find_element(By.XPATH, \"//input[@data-testid='gbmc-text-input']\")\n",
    "    ActionChains(driver).move_to_element(address_input).click().send_keys(i).perform()\n",
    "\n",
    "    # Wait\n",
    "    time.sleep(3.987)\n",
    "\n",
    "    # Find and click the \"Search\" button\n",
    "    search_button = driver.find_element(By.XPATH, \"//button[contains(@class,'svelte-1rb3ttq') and contains(@class,'gbmc-underlined')]\")\n",
    "    ActionChains(driver).move_to_element(search_button).click().perform()\n",
    "\n",
    "    # Wait for the page to load\n",
    "    time.sleep(4.12)\n",
    "\n",
    "\n",
    "\n",
    "    #Getting products\n",
    "\n",
    "    product_list = []\n",
    "    #article w/ class cor-offer-renderer-tile\n",
    "    product_list = driver.find_elements(By.XPATH, \"//article[contains(@class,'cor-offer-renderer-tile')]\")\n",
    "\n",
    "    final_product_list = []\n",
    "\n",
    "    for item in product_list:\n",
    "        try:\n",
    "            image_element = item.find_element(By.XPATH, \".//img\")\n",
    "            image_url = image_element.get_attribute('src')\n",
    "            final_product_list.append((image_url, item.text))\n",
    "        except:\n",
    "            pass\n",
    "\n",
    "    # Find and click the \"store info\" button\n",
    "    change_store_link = driver.find_element(By.XPATH, \"//a[contains(text(),'Alles zum Markt')]\")\n",
    "    ActionChains(driver).move_to_element(change_store_link).click().perform()\n",
    "    \n",
    "    # Find store name and phone\n",
    "    try: \n",
    "        store_name = driver.find_element(By.XPATH, \"//h1[contains(@class,'market-name')]\")\n",
    "        store_name = store_name.text\n",
    "    except:\n",
    "        pass\n",
    "        \n",
    "    try:\n",
    "        store_phone = driver.find_element(By.XPATH, \"//div[contains(@class,'market-contact')]\")\n",
    "        store_phone = store_phone.text\n",
    "    except:\n",
    "        pass\n",
    "\n",
    "    # Find services\n",
    "    market_services_div = None\n",
    "    try:\n",
    "        market_services_div = driver.find_element(By.XPATH, \"//div[contains(@class,'market-services')]\")\n",
    "    except:\n",
    "        pass\n",
    "        \n",
    "    # If the div was found get contents\n",
    "    if market_services_div:\n",
    "        store_services = market_services_div.text\n",
    "        store_services_list.append(f\"In-store shopping, {store_services}\")\n",
    "    else:\n",
    "        store_services_list.append('In-store shopping')\n",
    "\n",
    "        \n",
    "    go_back_to_page = driver.find_element(By.XPATH, \"//a[contains(text(),'Angebote')]\")\n",
    "    ActionChains(driver).move_to_element(go_back_to_page).click().perform()\n",
    "\n",
    "     \n",
    "    store_name_list.append(store_name)\n",
    "    store_phone_list.append(store_phone)\n",
    "    store_address_list.append(i)\n",
    "    products_for_store_list.append(final_product_list)\n",
    "    \n",
    "    driver.switch_to.window(driver.window_handles[0])\n"
   ]
  },
  {
   "cell_type": "code",
   "execution_count": 12,
   "id": "d62a9671",
   "metadata": {},
   "outputs": [],
   "source": [
    "driver.close()\n"
   ]
  },
  {
   "cell_type": "code",
   "execution_count": 13,
   "id": "d801cbdb",
   "metadata": {},
   "outputs": [],
   "source": [
    "# Adjusting the received string to be better on CSV\n",
    "final_store_phone_list = []\n",
    "for number in store_phone_list:\n",
    "    for item in number.split('Telefon: '):\n",
    "        for subitem in item.split('\\nREWE Markt GmbH'):\n",
    "            try:\n",
    "                (subitem.split()[0])\n",
    "                final_store_phone_list.append(subitem)\n",
    "            except IndexError:\n",
    "                continue"
   ]
  },
  {
   "cell_type": "code",
   "execution_count": 14,
   "id": "b0ca1637",
   "metadata": {},
   "outputs": [],
   "source": [
    "# Cleaning store address list\n",
    "store_address_list = list(store_df['STORE_ADDRESS'])"
   ]
  },
  {
   "cell_type": "code",
   "execution_count": 15,
   "id": "e3cb889c",
   "metadata": {},
   "outputs": [],
   "source": [
    "store_address_list = [item.split(',')[1::] for item in store_address_list]"
   ]
  },
  {
   "cell_type": "code",
   "execution_count": 16,
   "id": "6371cbe3",
   "metadata": {},
   "outputs": [],
   "source": [
    "store_address_list = [' '.join(item).strip() for item in store_address_list]"
   ]
  },
  {
   "cell_type": "code",
   "execution_count": null,
   "id": "c67722c7",
   "metadata": {},
   "outputs": [],
   "source": [
    "# Adding to csv"
   ]
  },
  {
   "cell_type": "code",
   "execution_count": 17,
   "id": "4eaef6fe",
   "metadata": {},
   "outputs": [],
   "source": [
    "store_df['STORE_NAME'] = store_name_list"
   ]
  },
  {
   "cell_type": "code",
   "execution_count": 18,
   "id": "79562c13",
   "metadata": {},
   "outputs": [],
   "source": [
    "store_df['STORE_ADDRESS'] = store_address_list"
   ]
  },
  {
   "cell_type": "code",
   "execution_count": 19,
   "id": "21108934",
   "metadata": {},
   "outputs": [],
   "source": [
    "store_df['STORE_PHONE'] = final_store_phone_list"
   ]
  },
  {
   "cell_type": "code",
   "execution_count": 20,
   "id": "0d651227",
   "metadata": {},
   "outputs": [],
   "source": [
    "store_df['STORE_SERVICES'] = store_services_list"
   ]
  },
  {
   "cell_type": "code",
   "execution_count": 21,
   "id": "a65085fd",
   "metadata": {},
   "outputs": [],
   "source": [
    "store_df['STORE_NAME_ADDRESS'] = store_df.apply(lambda row: row['STORE_NAME'] + ' ' + row['STORE_ADDRESS'], axis=1)\n"
   ]
  },
  {
   "cell_type": "code",
   "execution_count": 22,
   "id": "f4d65f91",
   "metadata": {},
   "outputs": [],
   "source": [
    "store_df['TEAM_MEMBER'] = 'Michael Johnson'"
   ]
  },
  {
   "cell_type": "code",
   "execution_count": 23,
   "id": "7beb13a7",
   "metadata": {},
   "outputs": [
    {
     "data": {
      "text/html": [
       "<div>\n",
       "<style scoped>\n",
       "    .dataframe tbody tr th:only-of-type {\n",
       "        vertical-align: middle;\n",
       "    }\n",
       "\n",
       "    .dataframe tbody tr th {\n",
       "        vertical-align: top;\n",
       "    }\n",
       "\n",
       "    .dataframe thead th {\n",
       "        text-align: right;\n",
       "    }\n",
       "</style>\n",
       "<table border=\"1\" class=\"dataframe\">\n",
       "  <thead>\n",
       "    <tr style=\"text-align: right;\">\n",
       "      <th></th>\n",
       "      <th>TEAM_MEMBER</th>\n",
       "      <th>STORE_ID</th>\n",
       "      <th>STORE_NAME</th>\n",
       "      <th>STORE_ADDRESS</th>\n",
       "      <th>STORE_NAME_ADDRESS</th>\n",
       "      <th>STORE_RATING</th>\n",
       "      <th>STORE_NUMBER_RATINGS</th>\n",
       "      <th>STORE_TYPE</th>\n",
       "      <th>STORE_PHONE</th>\n",
       "      <th>STORE_SERVICES</th>\n",
       "    </tr>\n",
       "  </thead>\n",
       "  <tbody>\n",
       "    <tr>\n",
       "      <th>0</th>\n",
       "      <td>Michael Johnson</td>\n",
       "      <td>NaN</td>\n",
       "      <td>REWE Supermarkt</td>\n",
       "      <td>NaN</td>\n",
       "      <td>NaN</td>\n",
       "      <td>NaN</td>\n",
       "      <td>NaN</td>\n",
       "      <td>NaN</td>\n",
       "      <td>030-85074370</td>\n",
       "      <td>In-store shopping</td>\n",
       "    </tr>\n",
       "    <tr>\n",
       "      <th>1</th>\n",
       "      <td>Michael Johnson</td>\n",
       "      <td>NaN</td>\n",
       "      <td>REWE Supermarkt</td>\n",
       "      <td>NaN</td>\n",
       "      <td>NaN</td>\n",
       "      <td>NaN</td>\n",
       "      <td>NaN</td>\n",
       "      <td>NaN</td>\n",
       "      <td>030-83202917</td>\n",
       "      <td>In-store shopping, Abholservice</td>\n",
       "    </tr>\n",
       "    <tr>\n",
       "      <th>2</th>\n",
       "      <td>Michael Johnson</td>\n",
       "      <td>NaN</td>\n",
       "      <td>REWE Supermarkt</td>\n",
       "      <td>NaN</td>\n",
       "      <td>NaN</td>\n",
       "      <td>NaN</td>\n",
       "      <td>NaN</td>\n",
       "      <td>NaN</td>\n",
       "      <td>030-30207371</td>\n",
       "      <td>In-store shopping, Abholservice</td>\n",
       "    </tr>\n",
       "    <tr>\n",
       "      <th>3</th>\n",
       "      <td>Michael Johnson</td>\n",
       "      <td>NaN</td>\n",
       "      <td>REWE Supermarkt</td>\n",
       "      <td>NaN</td>\n",
       "      <td>NaN</td>\n",
       "      <td>NaN</td>\n",
       "      <td>NaN</td>\n",
       "      <td>NaN</td>\n",
       "      <td>030-30207371</td>\n",
       "      <td>In-store shopping</td>\n",
       "    </tr>\n",
       "    <tr>\n",
       "      <th>4</th>\n",
       "      <td>Michael Johnson</td>\n",
       "      <td>NaN</td>\n",
       "      <td>REWE Supermarkt</td>\n",
       "      <td>NaN</td>\n",
       "      <td>NaN</td>\n",
       "      <td>NaN</td>\n",
       "      <td>NaN</td>\n",
       "      <td>NaN</td>\n",
       "      <td>030-53029550</td>\n",
       "      <td>In-store shopping</td>\n",
       "    </tr>\n",
       "    <tr>\n",
       "      <th>...</th>\n",
       "      <td>...</td>\n",
       "      <td>...</td>\n",
       "      <td>...</td>\n",
       "      <td>...</td>\n",
       "      <td>...</td>\n",
       "      <td>...</td>\n",
       "      <td>...</td>\n",
       "      <td>...</td>\n",
       "      <td>...</td>\n",
       "      <td>...</td>\n",
       "    </tr>\n",
       "    <tr>\n",
       "      <th>63</th>\n",
       "      <td>Michael Johnson</td>\n",
       "      <td>NaN</td>\n",
       "      <td>REWE Supermarkt</td>\n",
       "      <td>NaN</td>\n",
       "      <td>NaN</td>\n",
       "      <td>NaN</td>\n",
       "      <td>NaN</td>\n",
       "      <td>NaN</td>\n",
       "      <td>030-44677270</td>\n",
       "      <td>In-store shopping</td>\n",
       "    </tr>\n",
       "    <tr>\n",
       "      <th>64</th>\n",
       "      <td>Michael Johnson</td>\n",
       "      <td>NaN</td>\n",
       "      <td>REWE Supermarkt</td>\n",
       "      <td>NaN</td>\n",
       "      <td>NaN</td>\n",
       "      <td>NaN</td>\n",
       "      <td>NaN</td>\n",
       "      <td>NaN</td>\n",
       "      <td>030-80406790</td>\n",
       "      <td>In-store shopping</td>\n",
       "    </tr>\n",
       "    <tr>\n",
       "      <th>65</th>\n",
       "      <td>Michael Johnson</td>\n",
       "      <td>NaN</td>\n",
       "      <td>REWE Supermarkt</td>\n",
       "      <td>NaN</td>\n",
       "      <td>NaN</td>\n",
       "      <td>NaN</td>\n",
       "      <td>NaN</td>\n",
       "      <td>NaN</td>\n",
       "      <td>030-40043237</td>\n",
       "      <td>In-store shopping</td>\n",
       "    </tr>\n",
       "    <tr>\n",
       "      <th>66</th>\n",
       "      <td>Michael Johnson</td>\n",
       "      <td>NaN</td>\n",
       "      <td>REWE Supermarkt</td>\n",
       "      <td>NaN</td>\n",
       "      <td>NaN</td>\n",
       "      <td>NaN</td>\n",
       "      <td>NaN</td>\n",
       "      <td>NaN</td>\n",
       "      <td>030-40393105</td>\n",
       "      <td>In-store shopping</td>\n",
       "    </tr>\n",
       "    <tr>\n",
       "      <th>67</th>\n",
       "      <td>Michael Johnson</td>\n",
       "      <td>NaN</td>\n",
       "      <td>REWE Supermarkt</td>\n",
       "      <td>NaN</td>\n",
       "      <td>NaN</td>\n",
       "      <td>NaN</td>\n",
       "      <td>NaN</td>\n",
       "      <td>NaN</td>\n",
       "      <td>030-364232970</td>\n",
       "      <td>In-store shopping</td>\n",
       "    </tr>\n",
       "  </tbody>\n",
       "</table>\n",
       "<p>68 rows × 10 columns</p>\n",
       "</div>"
      ],
      "text/plain": [
       "        TEAM_MEMBER  STORE_ID       STORE_NAME  STORE_ADDRESS  \\\n",
       "0   Michael Johnson       NaN  REWE Supermarkt            NaN   \n",
       "1   Michael Johnson       NaN  REWE Supermarkt            NaN   \n",
       "2   Michael Johnson       NaN  REWE Supermarkt            NaN   \n",
       "3   Michael Johnson       NaN  REWE Supermarkt            NaN   \n",
       "4   Michael Johnson       NaN  REWE Supermarkt            NaN   \n",
       "..              ...       ...              ...            ...   \n",
       "63  Michael Johnson       NaN  REWE Supermarkt            NaN   \n",
       "64  Michael Johnson       NaN  REWE Supermarkt            NaN   \n",
       "65  Michael Johnson       NaN  REWE Supermarkt            NaN   \n",
       "66  Michael Johnson       NaN  REWE Supermarkt            NaN   \n",
       "67  Michael Johnson       NaN  REWE Supermarkt            NaN   \n",
       "\n",
       "    STORE_NAME_ADDRESS  STORE_RATING  STORE_NUMBER_RATINGS  STORE_TYPE  \\\n",
       "0                  NaN           NaN                   NaN         NaN   \n",
       "1                  NaN           NaN                   NaN         NaN   \n",
       "2                  NaN           NaN                   NaN         NaN   \n",
       "3                  NaN           NaN                   NaN         NaN   \n",
       "4                  NaN           NaN                   NaN         NaN   \n",
       "..                 ...           ...                   ...         ...   \n",
       "63                 NaN           NaN                   NaN         NaN   \n",
       "64                 NaN           NaN                   NaN         NaN   \n",
       "65                 NaN           NaN                   NaN         NaN   \n",
       "66                 NaN           NaN                   NaN         NaN   \n",
       "67                 NaN           NaN                   NaN         NaN   \n",
       "\n",
       "      STORE_PHONE                   STORE_SERVICES  \n",
       "0    030-85074370                In-store shopping  \n",
       "1    030-83202917  In-store shopping, Abholservice  \n",
       "2    030-30207371  In-store shopping, Abholservice  \n",
       "3    030-30207371                In-store shopping  \n",
       "4    030-53029550                In-store shopping  \n",
       "..            ...                              ...  \n",
       "63   030-44677270                In-store shopping  \n",
       "64   030-80406790                In-store shopping  \n",
       "65   030-40043237                In-store shopping  \n",
       "66   030-40393105                In-store shopping  \n",
       "67  030-364232970                In-store shopping  \n",
       "\n",
       "[68 rows x 10 columns]"
      ]
     },
     "execution_count": 23,
     "metadata": {},
     "output_type": "execute_result"
    }
   ],
   "source": [
    "store_df"
   ]
  },
  {
   "cell_type": "code",
   "execution_count": null,
   "id": "d5b7262e",
   "metadata": {},
   "outputs": [],
   "source": []
  },
  {
   "cell_type": "code",
   "execution_count": null,
   "id": "0c3bd49c",
   "metadata": {},
   "outputs": [],
   "source": []
  },
  {
   "cell_type": "code",
   "execution_count": 25,
   "id": "37adf75f",
   "metadata": {},
   "outputs": [],
   "source": [
    "image_list = []\n",
    "information_list = []\n",
    "deal_list = []\n",
    "price_list = []\n",
    "name_list = []"
   ]
  },
  {
   "cell_type": "code",
   "execution_count": 2,
   "id": "014f04cf",
   "metadata": {},
   "outputs": [],
   "source": [
    "# Getting details on products and putting in csv\n",
    "\n",
    "\n",
    "# For each store\n",
    "for num in range(len(products_for_store_list)):\n",
    "    # For product in store\n",
    "    for i in products_for_store_list[num]:\n",
    "        \n",
    "        image_list.append(i[0])\n",
    "        food_text = i[1]\n",
    "        \n",
    "        # Get rid of these for easier parsing\n",
    "\n",
    "        if 'Knaller' in food_text:\n",
    "            details = food_text.split('Knaller')\n",
    "    #         details = ' '.join(details)\n",
    "        elif 'Aktion' in food_text:\n",
    "            details = food_text.split('Aktion')\n",
    "    #         details = ' '.join(details)\n",
    "\n",
    "        # Finding deal\n",
    "    \n",
    "        information = details[0]\n",
    "        deal = 'None'\n",
    "        if 'noch günstiger mit App Coupon' in information:\n",
    "            information = information.split('noch günstiger mit App Coupon')\n",
    "            information = ' '.join(information[1::])\n",
    "            deal = 'Even cheaper with App Coupon'\n",
    "        if 'Sensationspreis' in information:\n",
    "            information = information.split('Sensationspreis')\n",
    "            information = ' '.join(information[1::])\n",
    "\n",
    "        # Finding info\n",
    "        \n",
    "        information = information.split('\\n')\n",
    "        information = list(filter(lambda x: x != '', information))\n",
    "\n",
    "        name = information[0]\n",
    "        item_details = information[1]\n",
    "        price = details[1].split('\\n')[1]\n",
    "\n",
    "\n",
    "        information_list.append(item_details)\n",
    "        deal_list.append(deal)\n",
    "        price_list.append(price)\n",
    "        name_list.append(name)"
   ]
  },
  {
   "cell_type": "code",
   "execution_count": 27,
   "id": "2db19d2d",
   "metadata": {},
   "outputs": [],
   "source": [
    "\n",
    "\n",
    "image_list = image_list[:11747]\n"
   ]
  },
  {
   "cell_type": "code",
   "execution_count": 28,
   "id": "0ec3a88e",
   "metadata": {},
   "outputs": [],
   "source": [
    "product_data = {'Store': [], 'Image': [], 'Name': [], 'Item Details': [], 'Price': [], 'Deal': []}\n",
    "\n",
    "product_csv = pd.DataFrame(product_data)"
   ]
  },
  {
   "cell_type": "code",
   "execution_count": 29,
   "id": "e95e0f85",
   "metadata": {},
   "outputs": [],
   "source": [
    "product_csv['Image'] = image_list"
   ]
  },
  {
   "cell_type": "code",
   "execution_count": 30,
   "id": "4176de61",
   "metadata": {},
   "outputs": [],
   "source": [
    "product_csv['Store'] = 'REWE Supermarkt'"
   ]
  },
  {
   "cell_type": "code",
   "execution_count": 31,
   "id": "8049782f",
   "metadata": {},
   "outputs": [],
   "source": [
    "product_csv['Name'] = name_list"
   ]
  },
  {
   "cell_type": "code",
   "execution_count": 32,
   "id": "e9c278da",
   "metadata": {},
   "outputs": [],
   "source": [
    "product_csv['Price'] = price_list"
   ]
  },
  {
   "cell_type": "code",
   "execution_count": 33,
   "id": "0a667940",
   "metadata": {},
   "outputs": [],
   "source": [
    "product_csv['Deal'] = deal_list"
   ]
  },
  {
   "cell_type": "code",
   "execution_count": 34,
   "id": "8c7dcc58",
   "metadata": {},
   "outputs": [],
   "source": [
    "product_csv['Item Details'] = information_list"
   ]
  },
  {
   "cell_type": "code",
   "execution_count": null,
   "id": "46190835",
   "metadata": {},
   "outputs": [],
   "source": []
  },
  {
   "cell_type": "code",
   "execution_count": 36,
   "id": "c92d0f1b",
   "metadata": {},
   "outputs": [],
   "source": [
    "product_csv.to_csv('path', index=False)"
   ]
  },
  {
   "cell_type": "code",
   "execution_count": null,
   "id": "3fc1f91a",
   "metadata": {},
   "outputs": [],
   "source": []
  }
 ],
 "metadata": {
  "kernelspec": {
   "display_name": "Python 3 (ipykernel)",
   "language": "python",
   "name": "python3"
  },
  "language_info": {
   "codemirror_mode": {
    "name": "ipython",
    "version": 3
   },
   "file_extension": ".py",
   "mimetype": "text/x-python",
   "name": "python",
   "nbconvert_exporter": "python",
   "pygments_lexer": "ipython3",
   "version": "3.9.13"
  }
 },
 "nbformat": 4,
 "nbformat_minor": 5
}
