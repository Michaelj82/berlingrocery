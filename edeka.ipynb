{
 "cells": [
  {
   "cell_type": "code",
   "execution_count": 1,
   "id": "69b5c05e",
   "metadata": {},
   "outputs": [],
   "source": [
    "import pandas as pd"
   ]
  },
  {
   "cell_type": "code",
   "execution_count": 2,
   "id": "07aa9738",
   "metadata": {},
   "outputs": [],
   "source": [
    "from selenium import webdriver\n",
    "from selenium.webdriver.common.keys import Keys\n",
    "from selenium.webdriver.common.by import By\n",
    "from selenium.webdriver.common.action_chains import ActionChains\n",
    "from selenium.webdriver.support.ui import WebDriverWait\n",
    "from selenium.webdriver.support import expected_conditions as EC\n",
    "from selenium.common.exceptions import NoSuchElementException\n",
    "from selenium.common.exceptions import TimeoutException\n",
    "\n",
    "import undetected_chromedriver as uc \n",
    "import cfscrape\n",
    "import time"
   ]
  },
  {
   "cell_type": "code",
   "execution_count": 105,
   "id": "b889f0e5",
   "metadata": {
    "scrolled": true
   },
   "outputs": [
    {
     "name": "stderr",
     "output_type": "stream",
     "text": [
      "C:\\Users\\mjjyo\\AppData\\Local\\Temp\\ipykernel_21384\\1700831825.py:6: DeprecationWarning: headless property is deprecated, instead use add_argument('--headless') or add_argument('--headless=new')\n",
      "  options.headless = False\n"
     ]
    }
   ],
   "source": [
    "# Make scraper that bypasses cloudflare\n",
    "scraper = cfscrape.create_scraper()\n",
    "\n",
    "# Create undetected chrome instance\n",
    "options = uc.ChromeOptions()\n",
    "options.headless = False\n",
    "driver = uc.Chrome(options=options)\n",
    "\n",
    "url = 'https://www.edeka24.de/#'\n",
    "driver.get(url)\n",
    "\n",
    "\n"
   ]
  },
  {
   "cell_type": "code",
   "execution_count": 4,
   "id": "0fd68cd2",
   "metadata": {},
   "outputs": [],
   "source": [
    "cookie = driver.find_element(By.XPATH, \"//ul[contains(@class, 'nav-list-main') and contains(@class, 'is-level-2')]\")\n",
    "li_elements = cookie.find_elements(By.XPATH, \".//li[contains(@class, 'nav-item-main is-level-3')]\")\n",
    "\n",
    "links = []\n",
    "\n",
    "for item in li_elements:\n",
    "    link_holder = item.find_element(By.XPATH, \".//a\")\n",
    "    href = link_holder.get_attribute(\"href\")\n",
    "    links.append(href)\n"
   ]
  },
  {
   "cell_type": "code",
   "execution_count": 5,
   "id": "f66f531c",
   "metadata": {},
   "outputs": [
    {
     "data": {
      "text/plain": [
       "['https://www.edeka24.de/Lebensmittel/Kaffee-Tee/Kaffee-ganze-Bohnen/?force_sid=0f43agfptrr9ccns23q0jpbt6p',\n",
       " 'https://www.edeka24.de/Lebensmittel/Kaffee-Tee/Kaffee-gemahlen-Instant/?force_sid=0f43agfptrr9ccns23q0jpbt6p',\n",
       " 'https://www.edeka24.de/Lebensmittel/Kaffee-Tee/Kaffeepads/?force_sid=0f43agfptrr9ccns23q0jpbt6p',\n",
       " 'https://www.edeka24.de/Lebensmittel/Kaffee-Tee/Kaffeekapseln/?force_sid=0f43agfptrr9ccns23q0jpbt6p',\n",
       " 'https://www.edeka24.de/Lebensmittel/Kaffee-Tee/Cappuccino-Kakao/?force_sid=0f43agfptrr9ccns23q0jpbt6p',\n",
       " 'https://www.edeka24.de/Lebensmittel/Kaffee-Tee/Filter/?force_sid=0f43agfptrr9ccns23q0jpbt6p',\n",
       " 'https://www.edeka24.de/Lebensmittel/Kaffee-Tee/Milch-Sahne-Alternativen/?force_sid=0f43agfptrr9ccns23q0jpbt6p',\n",
       " 'https://www.edeka24.de/Lebensmittel/Kaffee-Tee/Tee/?force_sid=0f43agfptrr9ccns23q0jpbt6p',\n",
       " 'https://www.edeka24.de/Lebensmittel/Getraenke/Energydrinks/?force_sid=0f43agfptrr9ccns23q0jpbt6p',\n",
       " 'https://www.edeka24.de/Lebensmittel/Getraenke/Saefte/?force_sid=0f43agfptrr9ccns23q0jpbt6p',\n",
       " 'https://www.edeka24.de/Wein-Spirituosen/Bier/?force_sid=0f43agfptrr9ccns23q0jpbt6p',\n",
       " 'https://www.edeka24.de/Lebensmittel/Getraenke/Eistee/?force_sid=0f43agfptrr9ccns23q0jpbt6p',\n",
       " 'https://www.edeka24.de/Lebensmittel/Getraenke/Instant-Getraenke/?force_sid=0f43agfptrr9ccns23q0jpbt6p',\n",
       " 'https://www.edeka24.de/Lebensmittel/Getraenke/Limonade/?force_sid=0f43agfptrr9ccns23q0jpbt6p',\n",
       " 'https://www.edeka24.de/Lebensmittel/Getraenke/Sirup/?force_sid=0f43agfptrr9ccns23q0jpbt6p',\n",
       " 'https://www.edeka24.de/Lebensmittel/Getraenke/Wasser/?force_sid=0f43agfptrr9ccns23q0jpbt6p',\n",
       " 'https://www.edeka24.de/Lebensmittel/Backen-Desserts/Margarine-Butterschmalz/?force_sid=0f43agfptrr9ccns23q0jpbt6p',\n",
       " 'https://www.edeka24.de/Lebensmittel/Backen-Desserts/Aromen-Vanille/?force_sid=0f43agfptrr9ccns23q0jpbt6p',\n",
       " 'https://www.edeka24.de/Lebensmittel/Backen-Desserts/Backmischungen/?force_sid=0f43agfptrr9ccns23q0jpbt6p',\n",
       " 'https://www.edeka24.de/Lebensmittel/Backen-Desserts/Backzutaten-Dekor/?force_sid=0f43agfptrr9ccns23q0jpbt6p',\n",
       " 'https://www.edeka24.de/Lebensmittel/Backen-Desserts/Geliermittel-Sahnefest/?force_sid=0f43agfptrr9ccns23q0jpbt6p',\n",
       " 'https://www.edeka24.de/Lebensmittel/Backen-Desserts/Kuvertuere-Glasur/?force_sid=0f43agfptrr9ccns23q0jpbt6p',\n",
       " 'https://www.edeka24.de/Lebensmittel/Backen-Desserts/Mehl-Backpulver-Hefe/?force_sid=0f43agfptrr9ccns23q0jpbt6p',\n",
       " 'https://www.edeka24.de/Lebensmittel/Backen-Desserts/Nuesse-mehr/?force_sid=0f43agfptrr9ccns23q0jpbt6p',\n",
       " 'https://www.edeka24.de/Lebensmittel/Backen-Desserts/Pudding-Dessert/?force_sid=0f43agfptrr9ccns23q0jpbt6p',\n",
       " 'https://www.edeka24.de/Lebensmittel/Backen-Desserts/Zucker-Zuckerersatz/?force_sid=0f43agfptrr9ccns23q0jpbt6p',\n",
       " 'https://www.edeka24.de/Lebensmittel/Fruehstueck-Snacks/Brot-Broetchen/?force_sid=0f43agfptrr9ccns23q0jpbt6p',\n",
       " 'https://www.edeka24.de/Lebensmittel/Fruehstueck-Snacks/Fertige-Kuchen/?force_sid=0f43agfptrr9ccns23q0jpbt6p',\n",
       " 'https://www.edeka24.de/Lebensmittel/Fruehstueck-Snacks/Knaeckebrot-Zwieback-Getreidewaffeln/?force_sid=0f43agfptrr9ccns23q0jpbt6p',\n",
       " 'https://www.edeka24.de/Lebensmittel/Fruehstueck-Snacks/Muesli-Fruchtriegel/?force_sid=0f43agfptrr9ccns23q0jpbt6p',\n",
       " 'https://www.edeka24.de/Lebensmittel/Fruehstueck-Snacks/Muesli-Cerealien/?force_sid=0f43agfptrr9ccns23q0jpbt6p',\n",
       " 'https://www.edeka24.de/Lebensmittel/Fruehstueck-Snacks/Honig/?force_sid=0f43agfptrr9ccns23q0jpbt6p',\n",
       " 'https://www.edeka24.de/Lebensmittel/Fruehstueck-Snacks/Konfituere-Fruchtaufstriche/?force_sid=0f43agfptrr9ccns23q0jpbt6p',\n",
       " 'https://www.edeka24.de/Lebensmittel/Fruehstueck-Snacks/Nuss-Schokocreme/?force_sid=0f43agfptrr9ccns23q0jpbt6p',\n",
       " 'https://www.edeka24.de/Lebensmittel/Fruehstueck-Snacks/Kaese-cremes/?force_sid=0f43agfptrr9ccns23q0jpbt6p',\n",
       " 'https://www.edeka24.de/Lebensmittel/Fruehstueck-Snacks/Streichcreme-Aufstrich/?force_sid=0f43agfptrr9ccns23q0jpbt6p',\n",
       " 'https://www.edeka24.de/Lebensmittel/Fruehstueck-Snacks/Wurst-Schinken/?force_sid=0f43agfptrr9ccns23q0jpbt6p',\n",
       " 'https://www.edeka24.de/Lebensmittel/Wuerzmittel-Bruehen/Oele/?force_sid=0f43agfptrr9ccns23q0jpbt6p',\n",
       " 'https://www.edeka24.de/Lebensmittel/Wuerzmittel-Bruehen/Bruehen/?force_sid=0f43agfptrr9ccns23q0jpbt6p',\n",
       " 'https://www.edeka24.de/Lebensmittel/Wuerzmittel-Bruehen/Essig/?force_sid=0f43agfptrr9ccns23q0jpbt6p',\n",
       " 'https://www.edeka24.de/Lebensmittel/Wuerzmittel-Bruehen/Feinwuerzmittel/?force_sid=0f43agfptrr9ccns23q0jpbt6p',\n",
       " 'https://www.edeka24.de/Lebensmittel/Wuerzmittel-Bruehen/Gewuerze-Kraeuter/?force_sid=0f43agfptrr9ccns23q0jpbt6p',\n",
       " 'https://www.edeka24.de/Lebensmittel/Wuerzmittel-Bruehen/Salatkraeuter/?force_sid=0f43agfptrr9ccns23q0jpbt6p',\n",
       " 'https://www.edeka24.de/Lebensmittel/Wuerzmittel-Bruehen/Salz/?force_sid=0f43agfptrr9ccns23q0jpbt6p',\n",
       " 'https://www.edeka24.de/Lebensmittel/Wuerzmittel-Bruehen/Suppeneinlagen/?force_sid=0f43agfptrr9ccns23q0jpbt6p',\n",
       " 'https://www.edeka24.de/Lebensmittel/Wuerzmittel-Bruehen/Wuerzmischungen/?force_sid=0f43agfptrr9ccns23q0jpbt6p',\n",
       " 'https://www.edeka24.de/Lebensmittel/Sossen/Fix-Produkte/?force_sid=0f43agfptrr9ccns23q0jpbt6p',\n",
       " 'https://www.edeka24.de/Lebensmittel/Sossen/Fertige-Sossen/?force_sid=0f43agfptrr9ccns23q0jpbt6p',\n",
       " 'https://www.edeka24.de/Lebensmittel/Sossen/Fonds-Sossenbinder/?force_sid=0f43agfptrr9ccns23q0jpbt6p',\n",
       " 'https://www.edeka24.de/Lebensmittel/Sossen/Grillsaucen/?force_sid=0f43agfptrr9ccns23q0jpbt6p',\n",
       " 'https://www.edeka24.de/Lebensmittel/Sossen/Ketchup-Mayonnaise/?force_sid=0f43agfptrr9ccns23q0jpbt6p',\n",
       " 'https://www.edeka24.de/Lebensmittel/Sossen/Salatdressing/?force_sid=0f43agfptrr9ccns23q0jpbt6p',\n",
       " 'https://www.edeka24.de/Lebensmittel/Sossen/Senf-Meerrettich/?force_sid=0f43agfptrr9ccns23q0jpbt6p',\n",
       " 'https://www.edeka24.de/Lebensmittel/Sossen/Sossen-zum-Anruehren/?force_sid=0f43agfptrr9ccns23q0jpbt6p',\n",
       " 'https://www.edeka24.de/Lebensmittel/Sossen/Tomatensosse-Pesto/?force_sid=0f43agfptrr9ccns23q0jpbt6p',\n",
       " 'https://www.edeka24.de/Lebensmittel/Sossen/Wuerzsaucen/?force_sid=0f43agfptrr9ccns23q0jpbt6p',\n",
       " 'https://www.edeka24.de/Lebensmittel/Beilagen/Reis/?force_sid=0f43agfptrr9ccns23q0jpbt6p',\n",
       " 'https://www.edeka24.de/Lebensmittel/Beilagen/Nudeln/?force_sid=0f43agfptrr9ccns23q0jpbt6p',\n",
       " 'https://www.edeka24.de/Lebensmittel/Beilagen/Samen-Saaten/?force_sid=0f43agfptrr9ccns23q0jpbt6p',\n",
       " 'https://www.edeka24.de/Lebensmittel/Beilagen/Bratlinge/?force_sid=0f43agfptrr9ccns23q0jpbt6p',\n",
       " 'https://www.edeka24.de/Lebensmittel/Beilagen/Huelsenfruechte/?force_sid=0f43agfptrr9ccns23q0jpbt6p',\n",
       " 'https://www.edeka24.de/Lebensmittel/Beilagen/Knoedel-Kartoffelprodukte/?force_sid=0f43agfptrr9ccns23q0jpbt6p',\n",
       " 'https://www.edeka24.de/Lebensmittel/Konserven/Fischkonserven/?force_sid=0f43agfptrr9ccns23q0jpbt6p',\n",
       " 'https://www.edeka24.de/Lebensmittel/Konserven/Fleischkonserven/?force_sid=0f43agfptrr9ccns23q0jpbt6p',\n",
       " 'https://www.edeka24.de/Lebensmittel/Konserven/Gemuesekonserven/?force_sid=0f43agfptrr9ccns23q0jpbt6p',\n",
       " 'https://www.edeka24.de/Lebensmittel/Konserven/Obstkonserven/?force_sid=0f43agfptrr9ccns23q0jpbt6p',\n",
       " 'https://www.edeka24.de/Lebensmittel/Konserven/Oliven-Peperoni/?force_sid=0f43agfptrr9ccns23q0jpbt6p',\n",
       " 'https://www.edeka24.de/Lebensmittel/Konserven/Wuerstchen-im-Glas/?force_sid=0f43agfptrr9ccns23q0jpbt6p',\n",
       " 'https://www.edeka24.de/Lebensmittel/Konserven/Wurstkonserven/?force_sid=0f43agfptrr9ccns23q0jpbt6p',\n",
       " 'https://www.edeka24.de/Lebensmittel/Suess-Salzig/Schokoriegel/?force_sid=0f43agfptrr9ccns23q0jpbt6p',\n",
       " 'https://www.edeka24.de/Lebensmittel/Suess-Salzig/Bonbons-Kaugummi/?force_sid=0f43agfptrr9ccns23q0jpbt6p',\n",
       " 'https://www.edeka24.de/Lebensmittel/Suess-Salzig/Fruchtgummi-Lakritz/?force_sid=0f43agfptrr9ccns23q0jpbt6p',\n",
       " 'https://www.edeka24.de/Lebensmittel/Suess-Salzig/Schoko-Leckereien/?force_sid=0f43agfptrr9ccns23q0jpbt6p',\n",
       " 'https://www.edeka24.de/Lebensmittel/Suess-Salzig/Tafelschokolade/?force_sid=0f43agfptrr9ccns23q0jpbt6p',\n",
       " 'https://www.edeka24.de/Lebensmittel/Suess-Salzig/Chips-Knabbereien/?force_sid=0f43agfptrr9ccns23q0jpbt6p',\n",
       " 'https://www.edeka24.de/Lebensmittel/Suess-Salzig/Gebaeck-Kekse-Waffeln/?force_sid=0f43agfptrr9ccns23q0jpbt6p',\n",
       " 'https://www.edeka24.de/Lebensmittel/Suess-Salzig/Nuesse-getrocknete-Fruechte/?force_sid=0f43agfptrr9ccns23q0jpbt6p',\n",
       " 'https://www.edeka24.de/Lebensmittel/Fertiggerichte/Gerichte-zum-Anruehren/?force_sid=0f43agfptrr9ccns23q0jpbt6p',\n",
       " 'https://www.edeka24.de/Lebensmittel/Fertiggerichte/Gerichte-zum-Erhitzen/?force_sid=0f43agfptrr9ccns23q0jpbt6p',\n",
       " 'https://www.edeka24.de/Lebensmittel/Fertiggerichte/Suppen-zum-Anruehren/?force_sid=0f43agfptrr9ccns23q0jpbt6p',\n",
       " 'https://www.edeka24.de/Lebensmittel/Fertiggerichte/Suppen-Eintoepfe/?force_sid=0f43agfptrr9ccns23q0jpbt6p',\n",
       " 'https://www.edeka24.de/Lebensmittel/Fertiggerichte/Trinkmahlzeiten/?force_sid=0f43agfptrr9ccns23q0jpbt6p']"
      ]
     },
     "execution_count": 5,
     "metadata": {},
     "output_type": "execute_result"
    }
   ],
   "source": [
    "links"
   ]
  },
  {
   "cell_type": "code",
   "execution_count": 99,
   "id": "505ae123",
   "metadata": {},
   "outputs": [
    {
     "data": {
      "text/html": [
       "<div>\n",
       "<style scoped>\n",
       "    .dataframe tbody tr th:only-of-type {\n",
       "        vertical-align: middle;\n",
       "    }\n",
       "\n",
       "    .dataframe tbody tr th {\n",
       "        vertical-align: top;\n",
       "    }\n",
       "\n",
       "    .dataframe thead th {\n",
       "        text-align: right;\n",
       "    }\n",
       "</style>\n",
       "<table border=\"1\" class=\"dataframe\">\n",
       "  <thead>\n",
       "    <tr style=\"text-align: right;\">\n",
       "      <th></th>\n",
       "      <th>category</th>\n",
       "      <th>sub_category</th>\n",
       "      <th>product_item</th>\n",
       "      <th>product_name</th>\n",
       "      <th>product_price</th>\n",
       "      <th>product_per_kg/lr</th>\n",
       "      <th>shipping_cost</th>\n",
       "      <th>shipping_duration</th>\n",
       "      <th>date_time</th>\n",
       "      <th>prod_description</th>\n",
       "      <th>product_url</th>\n",
       "      <th>prod_image</th>\n",
       "    </tr>\n",
       "  </thead>\n",
       "  <tbody>\n",
       "  </tbody>\n",
       "</table>\n",
       "</div>"
      ],
      "text/plain": [
       "Empty DataFrame\n",
       "Columns: [category, sub_category, product_item, product_name, product_price, product_per_kg/lr, shipping_cost, shipping_duration, date_time, prod_description, product_url, prod_image]\n",
       "Index: []"
      ]
     },
     "execution_count": 99,
     "metadata": {},
     "output_type": "execute_result"
    }
   ],
   "source": [
    "data = {'category': [], 'sub_category': [], 'product_item': [], 'product_name': [], 'product_price': [], 'product_per_kg/lr': [], 'shipping_cost':[], 'shipping_duration': [], 'date_time': [], 'prod_description': [], 'product_url': [], 'prod_image': []}\n",
    "\n",
    "df = pd.DataFrame(data)\n",
    "df"
   ]
  },
  {
   "cell_type": "code",
   "execution_count": 100,
   "id": "660e8059",
   "metadata": {},
   "outputs": [],
   "source": [
    "import datetime"
   ]
  },
  {
   "cell_type": "code",
   "execution_count": null,
   "id": "44e3a908",
   "metadata": {},
   "outputs": [],
   "source": []
  },
  {
   "cell_type": "code",
   "execution_count": 15,
   "id": "a9ad5f15",
   "metadata": {},
   "outputs": [],
   "source": [
    "def get_product_info_links(webdriver, original_page):\n",
    "    webdriver.get(original_page)\n",
    "\n",
    "    # This keeps scrolling down and pressing more products until there is no option to anymore\n",
    "    going = True\n",
    "    while going is True:\n",
    "        try:\n",
    "\n",
    "            # Displaying all food items\n",
    "\n",
    "            wait = WebDriverWait(driver, 10)\n",
    "            element = wait.until(EC.visibility_of_element_located((By.XPATH, \"//button[contains(text(), 'Weitere Produkte anzeigen')]\")))\n",
    "            driver.execute_script(\"window.scrollTo(0, document.body.scrollHeight);\")\n",
    "\n",
    "            time.sleep(3.235)\n",
    "            driver.execute_script(\"window.scrollBy(0, -325)\")\n",
    "\n",
    "\n",
    "\n",
    "            time.sleep(2.2643)\n",
    "\n",
    "            # click on the element\n",
    "            element.click()\n",
    "            time.sleep(4.5612)\n",
    "\n",
    "\n",
    "        except:\n",
    "            going =  False\n",
    "    \n",
    "    \n",
    "    \n",
    "    \n",
    "    \n",
    "    all_products_ul = webdriver.find_element(By.ID, 'jqList')\n",
    "    all_products = webdriver.find_elements(By.XPATH, \".//li[contains(@class, 'js-init')]\")\n",
    "    \n",
    "    all_products_links = []\n",
    "    \n",
    "    for item in all_products:\n",
    "        product_link_holder = item.find_element(By.XPATH, \".//a\")\n",
    "        product_href = product_link_holder.get_attribute(\"href\")\n",
    "        all_products_links.append(product_href)\n",
    "    return all_products_links"
   ]
  },
  {
   "cell_type": "code",
   "execution_count": 19,
   "id": "16f06c08",
   "metadata": {},
   "outputs": [],
   "source": [
    "every_product = []\n",
    "for link in links:\n",
    "    all_products = get_product_info_links(driver, link)\n",
    "    every_product = every_product + all_products"
   ]
  },
  {
   "cell_type": "code",
   "execution_count": null,
   "id": "52964b92",
   "metadata": {},
   "outputs": [],
   "source": []
  },
  {
   "cell_type": "code",
   "execution_count": 102,
   "id": "7a82db55",
   "metadata": {},
   "outputs": [],
   "source": [
    "def get_product_details(webdriver, link):\n",
    "    webdriver.get(link)\n",
    "    wait = WebDriverWait(driver, 10)\n",
    "\n",
    "    try:\n",
    "        top_classifiers = wait.until(EC.element_to_be_clickable((By.CLASS_NAME, \"breadcrumb\")))\n",
    "\n",
    "        top_classifiers = top_classifiers.text\n",
    "        top_classifiers = top_classifiers.split('\\n')[-3:]\n",
    "\n",
    "        category = top_classifiers[0]\n",
    "        sub_category = top_classifiers[1]\n",
    "        product_item = top_classifiers[2]\n",
    "\n",
    "        detail_box = webdriver.find_element(By.XPATH, \"//div[contains(@class, 'detail-description')]\")\n",
    "        product_name = detail_box.find_element(By.XPATH, \".//h1\").text\n",
    "\n",
    "        product_price_details = detail_box.find_element(By.XPATH, \".//div[contains(@class, 'price')]\").text\n",
    "        product_price_details = product_price_details.split('\\n')\n",
    "\n",
    "        product_price = product_price_details[0]\n",
    "        product_price_per_weight = product_price_details[1]\n",
    "        product_shipping_cost = product_price_details[2]\n",
    "        product_shipping_time = product_price_details[3]\n",
    "\n",
    "        time_scraped = str(datetime.datetime.now())\n",
    "\n",
    "        product_description = webdriver.find_element(By.XPATH, \".//div[contains(@class, 'row') and contains(@class, 'article-description-wrap') and contains(@class, 'open')]\").text\n",
    "        product_description = ' '.join(product_description.split('\\n'))\n",
    "\n",
    "        prod_image = webdriver.find_element(By.XPATH, \"//div[contains(@class, 'detail-image')]\")\n",
    "        prod_image_select = prod_image.find_element(By.XPATH, \".//img\")\n",
    "        image_url = prod_image_select.get_attribute('src')\n",
    "\n",
    "        return [category, sub_category, product_item, product_name, product_price, product_price_per_weight, product_shipping_cost, product_shipping_time, time_scraped, product_description, link, image_url]\n",
    "    except:\n",
    "        return None"
   ]
  },
  {
   "cell_type": "code",
   "execution_count": null,
   "id": "152e569d",
   "metadata": {},
   "outputs": [],
   "source": []
  },
  {
   "cell_type": "code",
   "execution_count": 106,
   "id": "b29fe901",
   "metadata": {},
   "outputs": [],
   "source": [
    "for i in range(len(every_product)):\n",
    "    product = every_product[i]\n",
    "    product_details = get_product_details(driver, product)\n",
    "    \n",
    "    if product_details is not None:\n",
    "        df.loc[i] = product_details\n",
    "    else:\n",
    "        continue"
   ]
  },
  {
   "cell_type": "code",
   "execution_count": null,
   "id": "95f5e622",
   "metadata": {},
   "outputs": [],
   "source": []
  },
  {
   "cell_type": "code",
   "execution_count": 107,
   "id": "fc1f15a3",
   "metadata": {},
   "outputs": [],
   "source": [
    "df.to_csv(f\"C:\\\\Users\\\\mjjyo\\\\OneDrive\\\\Desktop\\\\omdena\\\\edeka_products.csv\")"
   ]
  },
  {
   "cell_type": "code",
   "execution_count": 109,
   "id": "6fcde79a",
   "metadata": {},
   "outputs": [],
   "source": [
    "driver.quit()"
   ]
  },
  {
   "cell_type": "code",
   "execution_count": null,
   "id": "eb62b697",
   "metadata": {},
   "outputs": [],
   "source": []
  },
  {
   "cell_type": "code",
   "execution_count": null,
   "id": "33a3c452",
   "metadata": {},
   "outputs": [],
   "source": []
  }
 ],
 "metadata": {
  "kernelspec": {
   "display_name": "Python 3 (ipykernel)",
   "language": "python",
   "name": "python3"
  },
  "language_info": {
   "codemirror_mode": {
    "name": "ipython",
    "version": 3
   },
   "file_extension": ".py",
   "mimetype": "text/x-python",
   "name": "python",
   "nbconvert_exporter": "python",
   "pygments_lexer": "ipython3",
   "version": "3.9.13"
  }
 },
 "nbformat": 4,
 "nbformat_minor": 5
}
